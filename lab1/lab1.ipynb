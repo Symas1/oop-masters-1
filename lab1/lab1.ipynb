{
 "cells": [
  {
   "cell_type": "code",
   "execution_count": 1,
   "metadata": {},
   "outputs": [],
   "source": [
    "import os\n",
    "from pathlib import Path\n",
    "from lxml import etree as ET\n",
    "from abc import ABC, abstractmethod "
   ]
  },
  {
   "cell_type": "markdown",
   "metadata": {},
   "source": [
    "### Contants"
   ]
  },
  {
   "cell_type": "code",
   "execution_count": 2,
   "metadata": {},
   "outputs": [],
   "source": [
    "CURR_WORK_DIR = Path.cwd()\n",
    "ROOT_NAME = 'news_agency'"
   ]
  },
  {
   "cell_type": "markdown",
   "metadata": {},
   "source": [
    "### Relevant code"
   ]
  },
  {
   "cell_type": "code",
   "execution_count": 66,
   "metadata": {},
   "outputs": [],
   "source": [
    "class XmlElement(ABC):\n",
    "    @property\n",
    "    @abstractmethod\n",
    "    def tag(self):\n",
    "        pass\n",
    "\n",
    "    @abstractmethod\n",
    "    def to_xml_element(self):\n",
    "        pass\n",
    "    \n",
    "    @abstractmethod\n",
    "    def from_xml_element(self):\n",
    "        pass\n",
    "    \n",
    "\n",
    "class Category(XmlElement):\n",
    "    tag = 'category'\n",
    "\n",
    "    def __init__(self, id_: int, name: str):\n",
    "        self.id = id_\n",
    "        self.name = name\n",
    "    \n",
    "    def to_xml_element(self):\n",
    "        return ET.Element(_tag=Category.tag, id=str(self.id), name=self.name)\n",
    "    \n",
    "    @classmethod\n",
    "    def from_xml_element(cls, element):\n",
    "        return cls(id_=element.attrib['id'],name=element.attrib['name'])\n",
    "    \n",
    "    def __repr__(self):\n",
    "        return f'{type(self).__name__}(id_={self.id!r}, name={self.name!r})'\n",
    "    \n",
    "\n",
    "class News(XmlElement):\n",
    "    tag = 'news'\n",
    "\n",
    "    def __init__(self, id_: int, text: str, category: Category):\n",
    "        self.id = id_\n",
    "        self.text = text\n",
    "        self.category = category\n",
    "    \n",
    "    def to_xml_element(self):\n",
    "        element = ET.Element(_tag=News.tag, id=str(self.id))\n",
    "        element.text=self.text\n",
    "        return element\n",
    "    \n",
    "    @classmethod\n",
    "    def from_xml_element(cls, element, category):\n",
    "        return cls(id_=element.attrib['id'],name=element.attrib['name'],category=category)\n",
    "    \n",
    "    def __repr__(self):\n",
    "        return f'{type(self).__name__}(id_={self.id!r}, text={self.text!r}, category={self.category!r})'"
   ]
  },
  {
   "cell_type": "code",
   "execution_count": 67,
   "metadata": {},
   "outputs": [],
   "source": [
    "class XlmController:\n",
    "    def __init__(self, categories=None, news=None):\n",
    "        self.categories = categories or []\n",
    "        self.news = news or []\n",
    "\n",
    "    def validate(self):\n",
    "        return (len(set([category.id for category in self.categories])) == len(\n",
    "            self.categories)\n",
    "                and len(set([news_item.id\n",
    "                             for news_item in self.news])) == len(self.news))\n",
    "\n",
    "    def write(self, path_to_file):\n",
    "        if not self.validate():\n",
    "            raise Exception(\n",
    "                'Cant write data to xml file because some values have the same ids.'\n",
    "            )\n",
    "\n",
    "        path_to_file = Path(path_to_file)\n",
    "        path_to_file.parent.mkdir(parents=True, exist_ok=True)\n",
    "        path_to_file.touch(exist_ok=True)\n",
    "\n",
    "        root = ET.Element(ROOT_NAME)\n",
    "\n",
    "        categories = {}\n",
    "        for category in self.categories:\n",
    "            xml_category = category.to_xml_element()\n",
    "            categories[category.id] = xml_category\n",
    "            root.append(xml_category)\n",
    "\n",
    "        for news_item in news:\n",
    "            parent = categories[news_item.category.id]\n",
    "            parent.append(news_item.to_xml_element())\n",
    "\n",
    "        ET.ElementTree(root).write(file=str(path_to_file), pretty_print=True)\n",
    "    \n",
    "    @classmethod\n",
    "    def read(cls, path_to_file):\n",
    "        context = ET.parse(str(path_to_file))\n",
    "        \n",
    "        news = []\n",
    "        categories = []\n",
    "        for category in context.getroot():\n",
    "            categories.append(Category(id_=category.attrib['id'],name=category.attrib['name']))\n",
    "            for news_item in category:\n",
    "                news.append(News(id_=news_item.attrib['id'],text=news_item.text,category=categories[-1]))\n",
    "        return cls(categories=categories, news=news)"
   ]
  },
  {
   "cell_type": "markdown",
   "metadata": {},
   "source": [
    "### Usage example"
   ]
  },
  {
   "cell_type": "code",
   "execution_count": 70,
   "metadata": {},
   "outputs": [
    {
     "data": {
      "text/plain": [
       "News(id_='1', text='news1', category=Category(id_='1', name='name1'))"
      ]
     },
     "execution_count": 70,
     "metadata": {},
     "output_type": "execute_result"
    }
   ],
   "source": [
    "categories = [Category(id_=1,name='name1'),Category(id_=2,name='name2')]\n",
    "news = [News(id_=1,text='news1',category=categories[0]),News(id_=2,text='news2',category=categories[0])]\n",
    "controller = XlmController(categories=categories,news=news)\n",
    "controller.write(CURR_WORK_DIR / 'filename.xml')\n",
    "controller.validate()\n",
    "read_res =XlmController.read(str(CURR_WORK_DIR / 'filename.xml'))\n",
    "res.news[0]"
   ]
  }
 ],
 "metadata": {
  "kernelspec": {
   "display_name": "Python 3",
   "language": "python",
   "name": "python3"
  },
  "language_info": {
   "codemirror_mode": {
    "name": "ipython",
    "version": 3
   },
   "file_extension": ".py",
   "mimetype": "text/x-python",
   "name": "python",
   "nbconvert_exporter": "python",
   "pygments_lexer": "ipython3",
   "version": "3.6.8"
  }
 },
 "nbformat": 4,
 "nbformat_minor": 2
}
